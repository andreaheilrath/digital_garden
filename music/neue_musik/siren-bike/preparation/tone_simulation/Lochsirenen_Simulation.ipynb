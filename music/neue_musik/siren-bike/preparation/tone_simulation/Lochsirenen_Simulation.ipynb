{
 "cells": [
  {
   "cell_type": "markdown",
   "metadata": {
    "collapsed": true
   },
   "source": [
    "## Der erste Versuch den Klang der Lochsirene zu simulieren.\n",
    "\n",
    "Im Grunde sollte die erzeugte Schallwelle eine Faltung der Düse und der Löcher auf der Platte entsprechen. \n",
    "\n",
    "Hier sollen einige Geometrien getestet und in Soundfiles verwandelt werden."
   ]
  },
  {
   "cell_type": "code",
   "execution_count": 2,
   "metadata": {},
   "outputs": [],
   "source": [
    "#import required libraries\n",
    "\n",
    "from schallwerkzeuge import *\n",
    "import math\n",
    "from scipy import signal\n",
    "import matplotlib.pyplot as plt"
   ]
  },
  {
   "cell_type": "code",
   "execution_count": 3,
   "metadata": {},
   "outputs": [],
   "source": [
    "#options for plotting\n",
    "\n",
    "%matplotlib inline\n",
    "#%matplotlib notebook\n",
    "from matplotlib import cm\n",
    "viridis = cm.get_cmap('viridis', 12)"
   ]
  },
  {
   "cell_type": "code",
   "execution_count": 20,
   "metadata": {},
   "outputs": [],
   "source": [
    "class shepard:\n",
    "    \n",
    "    def __init__(self, fmin=27.5, tmax=4, cmax=8):\n",
    "        self.fmin = fmin\n",
    "        self.cmax = cmax\n",
    "        self.tmax = tmax\n",
    "        self.sound = np.empty(1,)\n",
    "        \n",
    "    def frequency(self, t, c):\n",
    "        return self.fmin*2**((c*self.tmax + t)/self.tmax)\n",
    "\n",
    "    def loudness(self, t, c, Lmin=1, Lmax=2):\n",
    "        return(Lmin + 0.5*(Lmax-Lmin)*(1.0-np.cos(self.theta(t, c))))\n",
    "    \n",
    "    def amplitude(self, t, c):\n",
    "        return 10**self.loudness(t, c)\n",
    "\n",
    "    def theta(self, t,c):\n",
    "        return 2*math.pi*(c*self.tmax + t)/(self.tmax*self.cmax)\n",
    "    \n",
    "    def generate_sound(self, duration=5.0, rate=44100):\n",
    "        no_samples = int(duration*rate)\n",
    "        sound_array = np.zeros((no_samples,))\n",
    "        for c in range(0, self.cmax):\n",
    "            for sample in range(0,no_samples):\n",
    "                sound_array[sample] += self.amplitude((sample/rate), c)* \\\n",
    "                                      2.0*math.pi * np.sin((sample/rate) * \\\n",
    "                                      (self.frequency((sample/rate)%self.tmax, c)))\n",
    "        self.sound = sound_array/np.max(sound_array)\n",
    "        return self.sound\n",
    "\n",
    "    def plot_f_over_t(self):\n",
    "        for c in range(0, self.cmax):\n",
    "            plt.plot(np.linspace(0,self.tmax,20), self.frequency(np.linspace(0,self.tmax,20), c), label = ('octave nr. ' + str(c)))\n",
    "        plt.yscale('log')\n",
    "        plt.xlabel('time [s]')\n",
    "        plt.ylabel('frequency [Hz]')\n",
    "        plt.grid()\n",
    "        plt.legend()\n",
    "        \n",
    "    def plot_l_over_f(self, steps=10):\n",
    "        t_s = np.linspace(0, self.tmax, steps)\n",
    "        colors = viridis(np.linspace(0, 1, steps))\n",
    "        for step in range(0, steps):\n",
    "            for c in range(0, self.cmax):\n",
    "                plt.scatter(self.frequency(t_s[step], c), self.loudness(t_s[step], c), color = colors[step])\n",
    "        plt.xscale('log')\n",
    "        plt.xlabel('frequency [Hz]')\n",
    "        plt.ylabel('amplitude [db]')\n"
   ]
  },
  {
   "cell_type": "code",
   "execution_count": 21,
   "metadata": {},
   "outputs": [],
   "source": [
    "shep1 = shepard()"
   ]
  },
  {
   "cell_type": "code",
   "execution_count": 22,
   "metadata": {},
   "outputs": [
    {
     "data": {
      "text/plain": [
       "[<matplotlib.lines.Line2D at 0x7fb0c22a76d0>]"
      ]
     },
     "execution_count": 22,
     "metadata": {},
     "output_type": "execute_result"
    },
    {
     "data": {
      "image/png": "[encoded data removed]",
      "text/plain": [
       "<Figure size 432x288 with 1 Axes>"
      ]
     },
     "metadata": {
      "needs_background": "light"
     },
     "output_type": "display_data"
    }
   ],
   "source": [
    "plt.plot(shep1.generate_sound())"
   ]
  },
  {
   "cell_type": "code",
   "execution_count": 23,
   "metadata": {},
   "outputs": [],
   "source": [
    "playsnd(shep1.sound, RATE)"
   ]
  },
  {
   "cell_type": "markdown",
   "metadata": {
    "collapsed": true
   },
   "source": [
    "### Einfache Sinustone und Sweeps\n",
    "Funktion die ein Array erzeugt, das beim abspielen einen Sinuston ergibt."
   ]
  },
  {
   "cell_type": "code",
   "execution_count": null,
   "metadata": {},
   "outputs": [],
   "source": [
    "def sinuston(freq = 220.0, duration = 4.0, sample_rate = RATE):\n",
    "    no_samples = int(duration*RATE)\n",
    "    sound_array = np.ndarray((no_samples,))\n",
    "    for sample in range(0,no_samples):\n",
    "        sound_array[sample] = math.sin((sample/RATE) * 2.0*math.pi *freq)\n",
    "    return sound_array\n",
    "\n",
    "def sweep(start_freq = 110.0, end_freq = 220.0, duration = 6.0, sample_rate = RATE):\n",
    "    no_samples = int(duration*RATE)\n",
    "    sound_array = np.ndarray((no_samples,))\n",
    "    for sample in range(0,no_samples):\n",
    "        sound_array[sample] = math.sin((sample/RATE) * \\\n",
    "                                       2.0*math.pi *(start_freq + sample*(end_freq-start_freq)/no_samples))\n",
    "    return sound_array"
   ]
  },
  {
   "cell_type": "code",
   "execution_count": null,
   "metadata": {},
   "outputs": [],
   "source": [
    "playsnd(sinuston(110, 10), RATE)"
   ]
  },
  {
   "cell_type": "code",
   "execution_count": null,
   "metadata": {},
   "outputs": [],
   "source": [
    "playsnd(sweep(), RATE)"
   ]
  },
  {
   "cell_type": "code",
   "execution_count": null,
   "metadata": {},
   "outputs": [],
   "source": [
    "base_freq = 27.5\n",
    "ratio = 3.0/2.0\n",
    "layers = 10\n",
    "amplitude\n",
    "sound_array = sweep(base_freq, base_freq*ratio, )\n",
    "for layer in range(1,layers):\n",
    "    sound_array = sound_array + sweep(base_freq*ratio**layer, base_freq*ratio**layers)\n",
    "\n",
    "sound_array = sound_array/np.max(sound_array)"
   ]
  },
  {
   "cell_type": "code",
   "execution_count": null,
   "metadata": {},
   "outputs": [],
   "source": [
    "playsnd(sound_array, RATE)"
   ]
  },
  {
   "cell_type": "markdown",
   "metadata": {},
   "source": [
    "### Modell einer Lochpatte\n",
    "Die Lochplatte wird in die einzelen Lochreihen aufgeteilt. Jede Lochreihe wird definiert durch ihren Kreisdurchmesser, die Lochform und eine Liste von Winkeln und Lochgrößen. Die Methode der Klasse berechnet die Faltung aus Düse und der Lochreihe, um in erster Näherung eine Idee des entstehenden Klanges zu bekommen.\n",
    "\n",
    "__Alle Maße in Millimeter!__"
   ]
  },
  {
   "cell_type": "code",
   "execution_count": null,
   "metadata": {},
   "outputs": [],
   "source": [
    "class lochreihe:\n",
    "    \n",
    "    def __init__(self, durchmesser_reihe, loecher_liste, lochform):\n",
    "        self.dr = durchmesser_reihe\n",
    "        self.winkel = np.array(loecher_liste)[:,0]\n",
    "        self.lochradien = np.array(loecher_liste)[:,1]\n",
    "        self.lf = lochform\n",
    "        self.duese_diam = 2.0\n",
    "\n",
    "        self.spatial_res = 0.05\n",
    "        self.stripe = []\n",
    "        self.kernel = []\n",
    "        self.pix_x = int(self.dr * math.pi / self.spatial_res)\n",
    "        self.pix_y = int(np.max(self.lochradien)*2.0 / self.spatial_res)\n",
    "        self.sound = []\n",
    "        \n",
    "            \n",
    "    def sound_array(self):\n",
    "        \n",
    "        self.generate_matrices()\n",
    "        self.sound = signal.convolve2d(self.stripe, self.kernel, boundary='wrap', mode='valid')\n",
    "        return np.transpose(self.sound/np.max(self.sound))\n",
    "        \n",
    "    def generate_matrices(self):\n",
    "        \n",
    "        self.stripe = np.zeros((self.pix_x, self.pix_y))\n",
    "        self.kernel = np.zeros((self.pix_y,self.pix_y))        \n",
    "        \n",
    "        print('render kernel ', self.pix_y, ' pixels in x, ', self.pix_y, ' pixels in y')\n",
    "        self.print_circle(self.kernel, np.max(self.lochradien), np.max(self.lochradien), self.duese_diam)\n",
    "        plt.imshow(self.kernel)\n",
    "        \n",
    "        print('render stripe ', self.pix_x, ' pixels in x, ', self.pix_y, ' pixels in y')\n",
    "        for index, (bogen, lochradius) in enumerate(zip(self.winkel*self.dr*math.pi, self.lochradien)):\n",
    "            #print('generate hole nr ', index)\n",
    "            self.print_circle(self.stripe, bogen , np.max(self.lochradien), lochradius)\n",
    "        plt.imshow(np.transpose(self.stripe))\n",
    "        \n",
    "        \n",
    "    def print_circle(self, matrix, x_pos_mm, y_pos_mm, diam_mm):\n",
    "        \n",
    "        x_pos_pix = int(0.5 + (x_pos_mm / self.spatial_res))\n",
    "        y_pos_pix = int(0.5 + (y_pos_mm / self.spatial_res))\n",
    "        radius_pix = int(0.5 + (diam_mm / self.spatial_res)/2)      \n",
    "\n",
    "        xlim = (x_pos_pix-radius_pix, x_pos_pix+radius_pix)\n",
    "        ylim = (y_pos_pix-radius_pix, y_pos_pix+radius_pix)\n",
    "        for i in range(*xlim):\n",
    "            for j in range(*ylim):\n",
    "                if math.sqrt((i-x_pos_pix)**2 + (j-y_pos_pix)**2) < radius_pix:\n",
    "                    matrix[i%self.pix_x,j%self.pix_y] = 1.0\n",
    "       "
   ]
  },
  {
   "cell_type": "code",
   "execution_count": null,
   "metadata": {},
   "outputs": [],
   "source": [
    "durchmesser_reihe = 300\n",
    "lochform = 'o'\n",
    "loecher_liste = []\n",
    "\n",
    "n = 50\n",
    "for i in range(0,n):\n",
    "    loecher_liste.append([i/n, 5])"
   ]
  },
  {
   "cell_type": "code",
   "execution_count": null,
   "metadata": {},
   "outputs": [],
   "source": [
    "test_object = lochreihe(durchmesser_reihe, loecher_liste, lochform)"
   ]
  },
  {
   "cell_type": "code",
   "execution_count": null,
   "metadata": {},
   "outputs": [],
   "source": [
    "test_object.sound_array()"
   ]
  },
  {
   "cell_type": "code",
   "execution_count": null,
   "metadata": {
    "scrolled": true
   },
   "outputs": [],
   "source": [
    "%matplotlib notebook\n",
    "plt.plot(test_object.sound/np.max(test_object.sound))\n",
    "plt.show()"
   ]
  },
  {
   "cell_type": "code",
   "execution_count": null,
   "metadata": {},
   "outputs": [],
   "source": [
    "playsnd_continuous(test_object.sound/np.max(test_object.sound), RATE)"
   ]
  },
  {
   "cell_type": "code",
   "execution_count": null,
   "metadata": {},
   "outputs": [],
   "source": []
  },
  {
   "cell_type": "code",
   "execution_count": null,
   "metadata": {},
   "outputs": [],
   "source": []
  }
 ],
 "metadata": {
  "kernelspec": {
   "display_name": "Python 3",
   "language": "python",
   "name": "python3"
  },
  "language_info": {
   "codemirror_mode": {
    "name": "ipython",
    "version": 3
   },
   "file_extension": ".py",
   "mimetype": "text/x-python",
   "name": "python",
   "nbconvert_exporter": "python",
   "pygments_lexer": "ipython3",
   "version": "3.8.1"
  },
  "latex_envs": {
   "bibliofile": "biblio.bib",
   "cite_by": "apalike",
   "current_citInitial": 1,
   "eqLabelWithNumbers": true,
   "eqNumInitial": 0
  }
 },
 "nbformat": 4,
 "nbformat_minor": 1
}
